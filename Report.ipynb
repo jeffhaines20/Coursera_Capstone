{
 "cells": [
  {
   "cell_type": "markdown",
   "metadata": {},
   "source": [
    "<h1>Report on Traffic Accidents</h1>"
   ]
  },
  {
   "cell_type": "markdown",
   "metadata": {},
   "source": [
    "<h1>Problem and Background</h1>\n",
    "Automobile accidents kill tens of thousands of Americans every year, yet because cars are such an ingrained part of American culture, the deaths, injuries and economic loss from these accidents is rarely the target of major policy initiatives. This, combined with the ubiquity of automobiles, suggests that targeted interventions, guided by a better understanding of the data, could save lives. In conditions where accidents are more likely to occur, drivers could be warned to be more careful or to drive more slowly. "
   ]
  },
  {
   "cell_type": "markdown",
   "metadata": {},
   "source": [
    "<h1>Data</h1>\n",
    "The data is a publicly available dataset on auto accidents from the city of Seattle. The dataset consists of 37 variables documenting the different features of each recorded accident. Several, including road condition, weather, and light conditions, are plausibly important factors in accidents. Using the dataset and machine learning techniques we can analyze whether in fact these conditions are more likely to be associated with more severe accidents."
   ]
  }
 ],
 "metadata": {
  "kernelspec": {
   "display_name": "Python 3",
   "language": "python",
   "name": "python3"
  },
  "language_info": {
   "codemirror_mode": {
    "name": "ipython",
    "version": 3
   },
   "file_extension": ".py",
   "mimetype": "text/x-python",
   "name": "python",
   "nbconvert_exporter": "python",
   "pygments_lexer": "ipython3",
   "version": "3.8.3"
  }
 },
 "nbformat": 4,
 "nbformat_minor": 4
}
